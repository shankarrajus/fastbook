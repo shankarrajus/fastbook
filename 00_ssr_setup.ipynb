{
 "cells": [
  {
   "cell_type": "code",
   "execution_count": null,
   "id": "9a3fe35b",
   "metadata": {
    "gradient": {
     "editing": false,
     "id": "9a3fe35b",
     "kernelId": ""
    }
   },
   "outputs": [
    {
     "name": "stdout",
     "output_type": "stream",
     "text": [
      "Python 3.7.11\r\n"
     ]
    },
    {
     "name": "stdout",
     "output_type": "stream",
     "text": [
      "spacy version is: 3.2.0\n",
      "nltk version is: 3.6.5\n"
     ]
    },
    {
     "ename": "AttributeError",
     "evalue": "module 'fbpca' has no attribute '__version__'",
     "output_type": "error",
     "traceback": [
      "\u001b[0;31m---------------------------------------------------------------------------\u001b[0m",
      "\u001b[0;31mAttributeError\u001b[0m                            Traceback (most recent call last)",
      "\u001b[0;32m/tmp/ipykernel_1972/1323759491.py\u001b[0m in \u001b[0;36m<module>\u001b[0;34m\u001b[0m\n\u001b[1;32m     11\u001b[0m \u001b[0;34m\u001b[0m\u001b[0m\n\u001b[1;32m     12\u001b[0m \u001b[0;32mimport\u001b[0m \u001b[0mfbpca\u001b[0m\u001b[0;34m\u001b[0m\u001b[0;34m\u001b[0m\u001b[0m\n\u001b[0;32m---> 13\u001b[0;31m \u001b[0mprint\u001b[0m\u001b[0;34m(\u001b[0m\u001b[0;34mf\"fbpca version is: {fbpca.__version__}\"\u001b[0m\u001b[0;34m)\u001b[0m\u001b[0;34m\u001b[0m\u001b[0;34m\u001b[0m\u001b[0m\n\u001b[0m",
      "\u001b[0;31mAttributeError\u001b[0m: module 'fbpca' has no attribute '__version__'"
     ]
    }
   ],
   "source": [
    "# !pip install nltk\n",
    "# !python -m spacy download en_core_web_sm\n",
    "# !pip install fbpca\n",
    "\n",
    "!python --version\n",
    "import spacy\n",
    "print(f\"spacy version is: {spacy.__version__}\")\n",
    "\n",
    "import nltk\n",
    "print(f\"nltk version is: {nltk.__version__}\")\n",
    "\n",
    "import fbpca"
   ]
  },
  {
   "cell_type": "code",
   "execution_count": null,
   "id": "b6793469-4810-4525-87b4-f14c8ee0e4ff",
   "metadata": {
    "gradient": {
     "editing": false,
     "id": "b6793469-4810-4525-87b4-f14c8ee0e4ff",
     "kernelId": "",
     "source_hidden": false
    }
   },
   "outputs": [],
   "source": []
  },
  {
   "cell_type": "code",
   "execution_count": null,
   "id": "e8b1e303-0025-42cc-a659-b76ea140653c",
   "metadata": {
    "gradient": {
     "editing": false,
     "id": "e8b1e303-0025-42cc-a659-b76ea140653c",
     "kernelId": "",
     "source_hidden": false
    }
   },
   "outputs": [],
   "source": [
    "# Brought in the code from https://github.com/fastai/course-nlp\n",
    "path_to_zip_file = r\"/notebooks/course-nlp.zip\"\n",
    "directory_to_extract_to = r\"/notebooks\"\n",
    "\n",
    "import zipfile\n",
    "with zipfile.ZipFile(path_to_zip_file, 'r') as zip_ref:\n",
    "    zip_ref.extractall(directory_to_extract_to)"
   ]
  }
 ],
 "metadata": {
  "kernelspec": {
   "display_name": "Python 3 (ipykernel)",
   "language": "python",
   "name": "python3"
  },
  "language_info": {
   "codemirror_mode": {
    "name": "ipython",
    "version": 3
   },
   "file_extension": ".py",
   "mimetype": "text/x-python",
   "name": "python",
   "nbconvert_exporter": "python",
   "pygments_lexer": "ipython3",
   "version": "3.7.11"
  }
 },
 "nbformat": 4,
 "nbformat_minor": 5
}
